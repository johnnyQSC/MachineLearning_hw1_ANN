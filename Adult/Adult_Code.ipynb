{
 "cells": [
  {
   "cell_type": "markdown",
   "metadata": {},
   "source": [
    "一、資料讀取與套件載入"
   ]
  },
  {
   "cell_type": "code",
   "execution_count": null,
   "metadata": {},
   "outputs": [],
   "source": [
    "import pandas as pd\n",
    "from keras.models import Sequential\n",
    "from keras.layers import Dense "
   ]
  },
  {
   "cell_type": "code",
   "execution_count": null,
   "metadata": {},
   "outputs": [],
   "source": [
    "train_data=pd.read_csv(\"Adult_FinalTrain.csv\")\n",
    "train_data"
   ]
  },
  {
   "cell_type": "code",
   "execution_count": null,
   "metadata": {},
   "outputs": [],
   "source": [
    "test_data=pd.read_csv(\"Adult_FinalTest.csv\")\n",
    "test_data"
   ]
  },
  {
   "cell_type": "markdown",
   "metadata": {},
   "source": [
    "二、正規化與資料結構整理"
   ]
  },
  {
   "cell_type": "code",
   "execution_count": null,
   "metadata": {},
   "outputs": [],
   "source": [
    "train_mean=train_data.mean(axis=0)"
   ]
  },
  {
   "cell_type": "code",
   "execution_count": null,
   "metadata": {},
   "outputs": [],
   "source": [
    "train_std=train_data.std(axis=0)"
   ]
  },
  {
   "cell_type": "code",
   "execution_count": null,
   "metadata": {},
   "outputs": [],
   "source": [
    "test_mean=test_data.mean(axis=0)"
   ]
  },
  {
   "cell_type": "code",
   "execution_count": null,
   "metadata": {},
   "outputs": [],
   "source": [
    "test_std=test_data.std(axis=0)"
   ]
  },
  {
   "cell_type": "code",
   "execution_count": null,
   "metadata": {},
   "outputs": [],
   "source": [
    "train_data-=train_mean\n",
    "train_data/=train_std\n",
    "train_data"
   ]
  },
  {
   "cell_type": "code",
   "execution_count": null,
   "metadata": {},
   "outputs": [],
   "source": [
    "test_data-=test_mean\n",
    "test_data/=test_std\n",
    "test_data"
   ]
  },
  {
   "cell_type": "code",
   "execution_count": null,
   "metadata": {},
   "outputs": [],
   "source": [
    "train_predict=train_data.drop(columns=['age','workclass','fnlwgt','education','education-num','marital-status','occupation','relationship'\n",
    "                      ,'race','sex','capital-gain','capital-loss','native-country','salary'],axis=1)\n",
    "train_predict"
   ]
  },
  {
   "cell_type": "code",
   "execution_count": null,
   "metadata": {},
   "outputs": [],
   "source": [
    "test_predict=test_data.drop(columns=['age','workclass','fnlwgt','education','education-num','marital-status','occupation','relationship'\n",
    "                      ,'race','sex','capital-gain','capital-loss','native-country','salary'],axis=1)\n",
    "test_predict"
   ]
  },
  {
   "cell_type": "markdown",
   "metadata": {},
   "source": [
    "三、建立前饋神經網路模型"
   ]
  },
  {
   "cell_type": "code",
   "execution_count": null,
   "metadata": {},
   "outputs": [],
   "source": [
    "model1=Sequential()\n",
    "model1.add(Dense(1000,activation='relu',input_shape=(train_data.shape[1],)))\n",
    "model1.add(Dense(100,activation='relu'))\n",
    "model1.add(Dense(100,activation='relu'))\n",
    "model1.add(Dense(100,activation='relu'))\n",
    "model1.add(Dense(1,activation='sigmoid'))\n",
    "model1.compile(loss=\"mse\", optimizer=\"adam\",metrics=[\"mae\"])"
   ]
  },
  {
   "cell_type": "code",
   "execution_count": null,
   "metadata": {},
   "outputs": [],
   "source": [
    "model2=Sequential()\n",
    "model2.add(Dense(1000,activation='relu',input_shape=(train_data.shape[1],)))\n",
    "model2.add(Dense(100,activation='relu'))\n",
    "model1.add(Dense(100,activation='relu'))\n",
    "model1.add(Dense(100,activation='relu'))\n",
    "model2.add(Dense(1,activation='sigmoid'))\n",
    "model2.compile(loss=\"mse\", optimizer=\"rmsprop\",metrics=[\"mape\"])"
   ]
  },
  {
   "cell_type": "code",
   "execution_count": null,
   "metadata": {},
   "outputs": [],
   "source": [
    "model3=Sequential()\n",
    "model3.add(Dense(1000,activation='relu',input_shape=(train_data.shape[1],)))\n",
    "model3.add(Dense(100,activation='relu'))\n",
    "model1.add(Dense(100,activation='relu'))\n",
    "model1.add(Dense(100,activation='relu'))\n",
    "model3.add(Dense(1,activation='sigmoid'))\n",
    "model3.compile(loss=\"mse\", optimizer=\"adam\",metrics=[\"mse\"])"
   ]
  },
  {
   "cell_type": "markdown",
   "metadata": {},
   "source": [
    "四、資料匯入模型訓練"
   ]
  },
  {
   "cell_type": "code",
   "execution_count": null,
   "metadata": {},
   "outputs": [],
   "source": [
    "model1.fit(train_data,train_predict,epochs=20,batch_size=20)"
   ]
  },
  {
   "cell_type": "code",
   "execution_count": null,
   "metadata": {},
   "outputs": [],
   "source": [
    "model2.fit(train_data,train_predict,epochs=20,batch_size=20)"
   ]
  },
  {
   "cell_type": "code",
   "execution_count": null,
   "metadata": {},
   "outputs": [],
   "source": [
    "model3.fit(train_data,train_predict,epochs=20,batch_size=20)"
   ]
  },
  {
   "cell_type": "markdown",
   "metadata": {},
   "source": [
    "五、績效評估"
   ]
  },
  {
   "cell_type": "code",
   "execution_count": null,
   "metadata": {},
   "outputs": [],
   "source": [
    "loss,mae_score= model1.evaluate(test_data,test_predict)         \n",
    "print(\"lose= {:.2f}\".format(loss))\n",
    "print(\"mae= {:.2f}\".format(mae_score))"
   ]
  },
  {
   "cell_type": "code",
   "execution_count": null,
   "metadata": {},
   "outputs": [],
   "source": [
    "loss,mape_score= model2.evaluate(test_data,test_predict)         \n",
    "print(\"lose= {:.2f}\".format(loss))\n",
    "print(\"mape= {:.2f}\".format(mape_score))"
   ]
  },
  {
   "cell_type": "code",
   "execution_count": null,
   "metadata": {},
   "outputs": [],
   "source": [
    "loss,mse_score= model3.evaluate(test_data,test_predict)         \n",
    "print(\"lose= {:.2f}\".format(loss))\n",
    "print(\"mse= {:.2f}\".format(mse_score))"
   ]
  }
 ],
 "metadata": {
  "kernelspec": {
   "display_name": "Python 3.9.6 64-bit",
   "language": "python",
   "name": "python3"
  },
  "language_info": {
   "codemirror_mode": {
    "name": "ipython",
    "version": 3
   },
   "file_extension": ".py",
   "mimetype": "text/x-python",
   "name": "python",
   "nbconvert_exporter": "python",
   "pygments_lexer": "ipython3",
   "version": "3.9.6"
  },
  "orig_nbformat": 4,
  "vscode": {
   "interpreter": {
    "hash": "14958d3aee5f1cad06795f787e54b96185c25fb40dfec723a5be941f3a531b8c"
   }
  }
 },
 "nbformat": 4,
 "nbformat_minor": 2
}
